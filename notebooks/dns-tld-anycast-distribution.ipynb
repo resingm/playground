{
 "cells": [
  {
   "cell_type": "code",
   "execution_count": null,
   "metadata": {},
   "outputs": [],
   "source": [
    "import json\n",
    "import re\n",
    "import os\n",
    "import sys\n",
    "\n",
    "import requests\n",
    "\n",
    "import numpy as np\n",
    "import pandas as pd\n",
    "from matplotlib import pyplot as plt"
   ]
  },
  {
   "cell_type": "code",
   "execution_count": null,
   "metadata": {},
   "outputs": [],
   "source": [
    "# First we need to download the root.zone from IANA\n",
    "\n",
    "res = requests.get(\"https://www.internic.net/domain/root.zone\")\n",
    "print(f\"Status: {res.status_code}\")\n",
    "\n",
    "# Parse the zone file into tuples\n",
    "root_zone = [l.split() for l in res.text.splitlines()]\n",
    "\n",
    "# Then we filter on ccTLDs\n",
    "# RegEx filter on ccTLD format in zone file\n",
    "pattern = re.compile(r\"^[a-z]{2}\\.$\")\n",
    "ns_records = filter(lambda r: pattern.match(r[0]), root_zone)\n",
    "# Lastly, filter on type='NS'\n",
    "ns_records = filter(lambda r: r[3] == \"NS\", ns_records)\n",
    "\n",
    "ns_records = list(ns_records)\n",
    "\n",
    "df_ns = pd.DataFrame(data=ns_records, columns=[\"name\", \"ttl\", \"class\", \"type\", \"record\"], dtype=str)\n",
    "df_ns"
   ]
  },
  {
   "cell_type": "markdown",
   "metadata": {},
   "source": [
    "We managed to get a currated list of all records within the root zone file which gives us the list of authoritative name servers for each ccTLD. Let's fetch the `A` and `AAAA` records accordingly."
   ]
  },
  {
   "cell_type": "code",
   "execution_count": null,
   "metadata": {},
   "outputs": [],
   "source": [
    "fqdns = [r[4] for r in ns_records]\n",
    "a_records = list(filter(lambda r: r[0] in fqdns and r[3] == 'A', root_zone))\n",
    "aaaa_records = list(filter(lambda r: r[0] in fqdns and r[3] == 'AAAA', root_zone))\n",
    "\n",
    "df_ip = pd.concat([\n",
    "    pd.DataFrame(data=a_records, columns=[\"fqdn\", \"ttl\", \"class\", \"type\", \"ip\"]),\n",
    "    pd.DataFrame(data=aaaa_records, columns=[\"fqdn\", \"ttl\", \"class\", \"type\", \"ip\"]),\n",
    "])\n",
    "\n",
    "df_ip = df_ip[[\"fqdn\", \"ip\"]]\n",
    "df_ip"
   ]
  },
  {
   "cell_type": "code",
   "execution_count": null,
   "metadata": {},
   "outputs": [],
   "source": [
    "ipv4 = sorted(list(set([r[4] for r in a_records])))\n",
    "ipv6 = sorted(list(set([r[4] for r in aaaa_records])))\n",
    "\n",
    "print(f\"#IPv4: {len(ipv4)}\")\n",
    "print(f\"#IPv6: {len(ipv6)}\")\n",
    "\n",
    "with open(\"/tmp/cctld_a.txt\", \"w\") as f:\n",
    "    f.write(\"\\n\".join(ipv4))\n",
    "\n",
    "with open(\"/tmp/cctld_aaaa.txt\", \"w\") as f:\n",
    "    f.write(\"\\n\".join(ipv6))\n",
    "    "
   ]
  },
  {
   "cell_type": "markdown",
   "metadata": {},
   "source": [
    "We have a unique and sorted set of IPv4s and IPv6s for each of the authoritative domain name servers of the ccTLDs. We can fetch the IP information from `ipinfo.io` with a script I've used in the past to resolve a set of IPs.\n",
    "\n",
    "Just run \n",
    "\n",
    "```\n",
    "cat /tmp/cctld_a.txt | ipinfo.sh > /tmp/ipinfo_cctld_a.jsonl\n",
    "cat /tmp/cctld_aaaa.txt | ipinfo.sh > /tmp/ipinfo_cctld_aaaa.jsonl\n",
    "```\n",
    "\n",
    "Afterwards we can load the JSON responses and evaluate how many IPs are anycasted."
   ]
  },
  {
   "cell_type": "code",
   "execution_count": null,
   "metadata": {},
   "outputs": [],
   "source": [
    "df = df_ns.merge(df_ip, how=\"inner\", left_on=\"record\", right_on=\"fqdn\")\n",
    "df = df[[\"name\", \"fqdn\", \"ip\"]]\n",
    "df\n",
    "\n",
    "df_ipinfo = pd.concat([\n",
    "    pd.read_json(\"../data/ipinfo_cctld_a.jsonl\", lines=True),\n",
    "    pd.read_json(\"../data/ipinfo_cctld_aaaa.jsonl\", lines=True),\n",
    "])\n",
    "\n",
    "df = df.merge(df_ipinfo, how=\"left\", left_on=\"ip\", right_on=\"ip\")\n",
    "# Then do some data preparation\n",
    "df[\"anycast\"] = df[\"anycast\"] == 1.0\n",
    "df[\"ipv6\"] = df[\"ip\"].str.contains(\":\")\n",
    "df_backup = df.copy()\n",
    "# df[df[\"name\"] == \"ax.\"]\n",
    "df"
   ]
  },
  {
   "cell_type": "code",
   "execution_count": null,
   "metadata": {},
   "outputs": [],
   "source": [
    "df = df_backup.copy()\n",
    "df = df[df.ipv6 == False]\n",
    "df = df[[\"name\", \"fqdn\", \"ip\", \"anycast\"]].reset_index(drop=True)\n",
    "# df[[\"name\", \"anycast\"]].drop_duplicates()\n",
    "df.to_csv(\"../data/dns-ns-anycast.csv\", index=False)\n",
    "\n",
    "df = df[[\"name\", \"anycast\"]].groupby(\"name\").max().reset_index()\n",
    "\n",
    "data = df.groupby(\"anycast\").count().to_dict()[\"name\"]\n",
    "names = df[df[\"anycast\"] == False][\"name\"].unique()\n",
    "\n",
    "print(f\"ccTLDs with at least one anycasted authoritative name server: {data[True]}\")\n",
    "print(f\"ccTLDs with no anycasted authoritative name server: {data[False]}\")\n",
    "\n",
    "print(\"ccTLDs without any anycasted authoritative name server:\")\n",
    "names\n"
   ]
  },
  {
   "cell_type": "markdown",
   "metadata": {},
   "source": [
    "We see that quite a number of TLDs do not have a single anycasted authoritative name server.\n",
    "If we carefully inspect the list, we are surprised to find these ccTLDs in there:\n",
    "\n",
    "```\n",
    "by. - Belarus\n",
    "eg. - Egypt\n",
    "kr. - South Korea\n",
    "md. - Moldova\n",
    "ru. - Russia\n",
    "su. - Soviet Union\n",
    "uz. - Uzbekistan\n",
    "ye. - Yemen\n",
    "```"
   ]
  },
  {
   "cell_type": "code",
   "execution_count": null,
   "metadata": {},
   "outputs": [],
   "source": [
    "fig, ax = plt.subplots(figsize=(6, 6))\n",
    "\n",
    "ax.pie(\n",
    "    np.array([206, 41]),\n",
    "    labels=[\"anycast\\n(206 ccTLDs)\", \"unicast only\\n(41 ccTLDs)\"],\n",
    "    startangle=90,\n",
    "    explode=[0.0, 0.1],\n",
    "    colors=[\"#eecc66\", \"#6699cc\"],\n",
    "    rotatelabels=False,\n",
    "    autopct='~%1.0f%%',\n",
    ")\n",
    "\n",
    "ax.set_title(\"ccTLDs with Authoritative Name Servers announced under Anycast\")\n",
    "ax.set_facecolor('#ffffff')\n",
    "fig.savefig(\"../img/cctld-anycast-ipv4.jpg\", dpi=120, )"
   ]
  },
  {
   "cell_type": "code",
   "execution_count": null,
   "metadata": {},
   "outputs": [],
   "source": []
  }
 ],
 "metadata": {
  "kernelspec": {
   "display_name": "Python 3 (ipykernel)",
   "language": "python",
   "name": "python3"
  },
  "language_info": {
   "codemirror_mode": {
    "name": "ipython",
    "version": 3
   },
   "file_extension": ".py",
   "mimetype": "text/x-python",
   "name": "python",
   "nbconvert_exporter": "python",
   "pygments_lexer": "ipython3",
   "version": "3.10.10"
  },
  "vscode": {
   "interpreter": {
    "hash": "2f7ff91b9191e4cc9564eaa98c15344be177b72bb17c2077d9f1847686a759e3"
   }
  }
 },
 "nbformat": 4,
 "nbformat_minor": 4
}
